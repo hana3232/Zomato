{
  "cells": [
    {
      "cell_type": "code",
      "execution_count": 1,
      "metadata": {
        "colab": {
          "base_uri": "https://localhost:8080/"
        },
        "id": "56Hq_USO52mh",
        "outputId": "ee2160ce-2231-4733-bde6-1a0374f4b5ae"
      },
      "outputs": [
        {
          "name": "stdout",
          "output_type": "stream",
          "text": [
            "Requirement already satisfied: mysql-connector-python in c:\\users\\admin\\anaconda3\\lib\\site-packages (9.2.0)\n",
            "Note: you may need to restart the kernel to use updated packages.\n"
          ]
        }
      ],
      "source": [
        "%pip install mysql-connector-python"
      ]
    },
    {
      "cell_type": "code",
      "execution_count": 2,
      "metadata": {
        "id": "HpxfeoHuAATX"
      },
      "outputs": [],
      "source": [
        "import mysql.connector"
      ]
    },
    {
      "cell_type": "code",
      "execution_count": 9,
      "metadata": {},
      "outputs": [],
      "source": [
        "import streamlit as st"
      ]
    },
    {
      "cell_type": "code",
      "execution_count": 4,
      "metadata": {
        "id": "9AX4fqnSBKRG"
      },
      "outputs": [],
      "source": [
        "class app:\n",
        "  def __init__(self,host,user,port,password,database):\n",
        "    self.host=host\n",
        "    self.user=user\n",
        "    self.port=port\n",
        "    self.password=password\n",
        "    self.database=database\n",
        "    self.conn=None\n",
        "    self.cursor=None\n",
        "  def connect(self):\n",
        "    self.conn=mysql.connector.connect(host=self.host,user=self.user,port=self.port,password=self.password,database=self.database)\n",
        "    self.cursor=self.conn.cursor()\n",
        "    print(\"coonection was suceed\")\n",
        "  def create_table(self,t_query):\n",
        "    self.cursor.execute(t_query)\n",
        "    self.conn.commit()\n",
        "    print(\"table created\")\n",
        "  def insert_data(self,I_query,list_of_tuples):\n",
        "    self.cursor.executemany(I_query,list_of_tuples)\n",
        "    self.conn.commit()\n",
        "    print(\"value inserted\")\n",
        "  def reconnect(self):\n",
        "        try:\n",
        "            self.conn.ping(reconnect=True)  # Attempt to reconnect if connection is lost\n",
        "            print(\"Reconnected to the database.\")\n",
        "        except mysql.connector.Error as err:\n",
        "            print(f\"Error reconnecting: {err}\")"
      ]
    },
    {
      "cell_type": "code",
      "execution_count": 5,
      "metadata": {
        "id": "Nbfwhj91BDjh"
      },
      "outputs": [],
      "source": [
        "config = {\"host\" : \"gateway01.ap-southeast-1.prod.aws.tidbcloud.com\", \"user\": \"Ud6xHKHHCuFbH6f.root\", \"port\" : 4000, \"password\" : \"jwl7QF0l1usUQwNi\",\"database\":\"Zomato\"}"
      ]
    },
    {
      "cell_type": "code",
      "execution_count": 6,
      "metadata": {
        "id": "DEZBNmTKCuuS"
      },
      "outputs": [],
      "source": [
        "df_obj= app(**config)"
      ]
    },
    {
      "cell_type": "code",
      "execution_count": 7,
      "metadata": {
        "colab": {
          "base_uri": "https://localhost:8080/"
        },
        "id": "dkB_kAJ1JPKA",
        "outputId": "de09b0bd-efc7-4e87-8dce-54e0b7ec2cca"
      },
      "outputs": [
        {
          "name": "stdout",
          "output_type": "stream",
          "text": [
            "coonection was suceed\n"
          ]
        }
      ],
      "source": [
        "df_obj.connect()\n"
      ]
    },
    {
      "cell_type": "code",
      "execution_count": null,
      "metadata": {
        "colab": {
          "base_uri": "https://localhost:8080/"
        },
        "id": "KnN1c8GzEd7q",
        "outputId": "67b5124b-cf1b-418b-9fd5-e8992d4ac942"
      },
      "outputs": [
        {
          "name": "stdout",
          "output_type": "stream",
          "text": [
            "Reconnected to the database.\n"
          ]
        }
      ],
      "source": [
        "df_obj.reconnect()"
      ]
    },
    {
      "cell_type": "code",
      "execution_count": 8,
      "metadata": {},
      "outputs": [
        {
          "name": "stdout",
          "output_type": "stream",
          "text": [
            "Requirement already satisfied: faker in c:\\users\\admin\\anaconda3\\lib\\site-packages (36.1.1)\n",
            "Requirement already satisfied: tzdata in c:\\users\\admin\\anaconda3\\lib\\site-packages (from faker) (2023.3)\n",
            "Note: you may need to restart the kernel to use updated packages.\n"
          ]
        }
      ],
      "source": [
        "%pip install faker --upgrade  \n",
        "\n",
        "from faker import Faker\n",
        "from datetime import datetime, timedelta\n",
        "fake = Faker([\"en_IN\"])"
      ]
    },
    {
      "cell_type": "code",
      "execution_count": null,
      "metadata": {},
      "outputs": [],
      "source": [
        "EMP_ID=[]\n",
        "cuisines = [\n",
        "    \"Indian\", \"Chinese\", \"Italian\", \"Mexican\", \"Thai\", \"Japanese\", \"Mediterranean\",\n",
        "    \"American\", \"French\", \"Korean\", \"Vietnamese\", \"Greek\", \"Spanish\", \"Lebanese\"]\n",
        "for i in range(1,1000):\n",
        "  EMP_data=(fake.unique.random_int(min=1000 ,max=9999),fake.name(),fake.unique.email(),\n",
        "            fake.phone_number(),fake.address(), fake.date_between(start_date= datetime(2020,1,1), end_date=datetime(2024,12,31)),\n",
        "            fake.random_element([\"Yes\",\"No\"]),fake.random_element(cuisines),fake.random_int(min=1, max=100),round(fake.random.uniform(0,5),2))\n",
        "  EMP_ID.append(EMP_data)"
      ]
    },
    {
      "cell_type": "code",
      "execution_count": 8,
      "metadata": {
        "colab": {
          "base_uri": "https://localhost:8080/"
        },
        "collapsed": true,
        "id": "Cm1zoFegXch3",
        "outputId": "314e2182-5ebc-4813-a790-e64ed1e58930"
      },
      "outputs": [
        {
          "name": "stdout",
          "output_type": "stream",
          "text": [
            "table created\n"
          ]
        }
      ],
      "source": [
        "tq=\"\"\"create table Customer_Table(Customer_ID int primary key,Customer_Name varchar(200),\n",
        "      Customer_Email varchar(200),Customer_Phno varchar(15),Customer_Address varchar(400),\n",
        "      Customer_Signup_date DATE,Is_Premium varchar(20),Preferred_Cuisine varchar(20),Total_orders int,\n",
        "      Average_rating float)\"\"\"\n",
        "df_obj.create_table(tq)"
      ]
    },
    {
      "cell_type": "code",
      "execution_count": null,
      "metadata": {
        "collapsed": true,
        "id": "WBO2yCmXYz_0"
      },
      "outputs": [],
      "source": [
        "Iq=\"\"\"insert into Customer_Table(Customer_ID,Customer_Name,Customer_Email,Customer_Phno,Customer_Address,Customer_Signup_date,Is_Premium,Preferred_Cuisine,Total_orders, Average_rating )\n",
        "    values(%s,%s,%s,%s,%s,%s,%s,%s,%s,%s)\"\"\"\n",
        "df_obj.insert_data(Iq,EMP_ID)"
      ]
    },
    {
      "cell_type": "code",
      "execution_count": null,
      "metadata": {},
      "outputs": [],
      "source": [
        "RT=[]\n",
        "for _ in range(1,1000):\n",
        "  delivery_times = [fake.date_time_this_month().replace(second=0) for _ in range(5)]\n",
        "  reference_time = datetime.combine(delivery_times[0].date(), datetime.min.time())\n",
        "  minutes_list = [(dt - reference_time).total_seconds() / 60 for dt in delivery_times]\n",
        "  average_delivery_time = sum(minutes_list) / len(minutes_list)\n",
        "  average_minute = int(average_delivery_time % 60)\n",
        "\n",
        "  rt_tab =  (\n",
        "         fake.bothify(text=\"?#####\"),\n",
        "         fake.company() + \" \" + fake.random_element([\"Grill\", \"Cafe\", \"Bistro\", \"Diner\", \"Eatery\"]),\n",
        "         fake.random_element(cuisines),fake.address(),fake.name(),abs(average_delivery_time),\n",
        "         fake.phone_number(),\n",
        "         round(fake.random.uniform(1,5),2),\n",
        "         fake.random_int(min=1,max=100),\n",
        "         fake.random_element([\"Yes\",\"No\"])\n",
        "            )\n",
        "  RT.append(rt_tab)"
      ]
    },
    {
      "cell_type": "code",
      "execution_count": 13,
      "metadata": {
        "colab": {
          "base_uri": "https://localhost:8080/"
        },
        "collapsed": true,
        "id": "8bCrNFBF146l",
        "outputId": "dba3ad7e-4ef3-4763-d4ac-a201f709341d"
      },
      "outputs": [
        {
          "name": "stdout",
          "output_type": "stream",
          "text": [
            "table created\n"
          ]
        }
      ],
      "source": [
        "rq=\"\"\"create table Restaurant_Table(Restaurant_ID varchar(200) primary key,Restaurant_Name varchar(200),\n",
        "      Cusine_type varchar(200),Reataurant_location varchar(200),Owner_Name varchar(40),\n",
        "      Avg_delivery_time float,Contact_number varchar(20), Average_rating float ,Total_orders int,\n",
        "      Is_Active varchar(10))\"\"\"\n",
        "df_obj.create_table(rq)"
      ]
    },
    {
      "cell_type": "code",
      "execution_count": null,
      "metadata": {
        "id": "b2I5Kf4I5vzo"
      },
      "outputs": [],
      "source": [
        "rest=\"\"\"insert into Restaurant_Table(Restaurant_ID,Restaurant_Name,Cusine_type,Reataurant_location,Owner_Name,Avg_delivery_time,Contact_number,Average_rating,Total_orders,Is_Active)\n",
        "        values(%s,%s,%s,%s,%s,%s,%s,%s,%s,%s)\"\"\"\n",
        "df_obj.insert_data(rest,RT)\n"
      ]
    },
    {
      "cell_type": "code",
      "execution_count": 10,
      "metadata": {},
      "outputs": [],
      "source": [
        "df_obj.cursor.execute(\"select Customer_ID from Customer_Table\")\n",
        "Customer_ids=[row[0] for row in df_obj.cursor.fetchall()]"
      ]
    },
    {
      "cell_type": "code",
      "execution_count": null,
      "metadata": {},
      "outputs": [],
      "source": [
        "df_obj.cursor.execute(\"select Restaurant_ID from Restaurant_Table\")\n",
        "Restaurant_ids=[row[0] for row in df_obj.cursor.fetchall()]"
      ]
    },
    {
      "cell_type": "code",
      "execution_count": null,
      "metadata": {},
      "outputs": [],
      "source": [
        "OT = []\n",
        "for _ in range(1,1000):  # Fixed range\n",
        "    delivery_offset = fake.random.randint(10, 120)\n",
        "    order_amount = fake.random.randint(500, 5000)  # Order amount between ₹500 - ₹5000\n",
        "    discount_percentage = fake.random.randint(5, 50)  # Discount between 5% - 50%\n",
        "    discount_amount = (discount_percentage / 100) * order_amount  # Calculate discount\n",
        "\n",
        "    # Generate random datetime\n",
        "    random_datetime = fake.date_time_between(start_date=\"-4y\", end_date=\"now\")  # Proper datetime usage\n",
        "\n",
        "    # Add delivery offset using timedelta\n",
        "    delivery_datetime = random_datetime + timedelta(minutes=delivery_offset)\n",
        "\n",
        "    order = (\n",
        "        fake.unique.random_int(min=10000, max=99999),  # Removed .unique to avoid errors\n",
        "        fake.random.choice(Customer_ids),\n",
        "        fake.random.choice(Restaurant_ids),\n",
        "        random_datetime,\n",
        "        delivery_datetime,\n",
        "        fake.random_element([\"Pending\", \"Delivered\", \"Cancelled\"]),\n",
        "        round(order_amount, 2),\n",
        "        fake.random_element([\"Credit Card\", \"Cash\", \"UPI\"]),\n",
        "        round(discount_amount, 2),\n",
        "        round(fake.random.uniform(1, 5), 1),\n",
        "    )\n",
        "    OT.append(order)\n"
      ]
    },
    {
      "cell_type": "code",
      "execution_count": 17,
      "metadata": {
        "colab": {
          "base_uri": "https://localhost:8080/"
        },
        "collapsed": true,
        "id": "uPk52v7s49yK",
        "outputId": "1a42c56a-792a-44cf-db81-8a4220b7d4ca"
      },
      "outputs": [
        {
          "name": "stdout",
          "output_type": "stream",
          "text": [
            "table created\n"
          ]
        }
      ],
      "source": [
        "order=\"\"\"create table Order_Table(Order_ID int primary key,Customer_ID int,Restaurant_ID varchar(200),Order_Date DATETIME,Delivery_Time DATETIME,\n",
        "         Order_Status varchar(20),Order_Amount float,Payment_Mode varchar(20),Discount_Amount float,Rating float,\n",
        "         FOREIGN KEY (Customer_ID) REFERENCES Customer_Table(Customer_ID) ON DELETE CASCADE,\n",
        "         FOREIGN KEY (Restaurant_ID) REFERENCES Restaurant_Table(Restaurant_ID) ON DELETE CASCADE)\"\"\"\n",
        "df_obj.create_table(order)"
      ]
    },
    {
      "cell_type": "code",
      "execution_count": 24,
      "metadata": {
        "colab": {
          "base_uri": "https://localhost:8080/"
        },
        "id": "rSL_T2Pf8NQ1",
        "outputId": "13057b8d-bb2e-4891-8c3b-bf34ca7b1472"
      },
      "outputs": [
        {
          "name": "stdout",
          "output_type": "stream",
          "text": [
            "value inserted\n"
          ]
        }
      ],
      "source": [
        "order_val=\"\"\"insert into Order_Table(Order_ID,Customer_ID,Restaurant_ID,Order_Date,Delivery_Time,Order_Status,Order_Amount,Payment_Mode,Discount_Amount,Rating)\n",
        "            values(%s,%s,%s,%s,%s,%s,%s,%s,%s,%s)\"\"\"\n",
        "\n",
        "df_obj.insert_data(order_val, OT) "
      ]
    },
    {
      "cell_type": "code",
      "execution_count": null,
      "metadata": {},
      "outputs": [],
      "source": [
        "DPT=[]\n",
        "vehicle_types = [\"Bike\", \"Car\", \"Scooter\", \"Van\", \"Truck\", \"Bicycle\"]\n",
        "for _ in range(1,1000):\n",
        "  person =  (\n",
        "         fake.unique.random_int(min=1000 ,max=9999),\n",
        "         fake.name(),\n",
        "         fake.phone_number(),\n",
        "         fake.random_element(vehicle_types),\n",
        "         fake.random_int(min=1, max=100),\n",
        "         round(fake.random.uniform(1, 5), 1),\n",
        "         fake.address()\n",
        "      )\n",
        "  DPT.append(person)"
      ]
    },
    {
      "cell_type": "code",
      "execution_count": 25,
      "metadata": {
        "colab": {
          "base_uri": "https://localhost:8080/"
        },
        "id": "9H0HCt4IApAt",
        "outputId": "c9796076-63be-4687-cf0f-ef8714f03770"
      },
      "outputs": [
        {
          "name": "stdout",
          "output_type": "stream",
          "text": [
            "table created\n"
          ]
        }
      ],
      "source": [
        "person_tble=\"\"\"create table Delivery_Person_Table(Delivery_Person_ID int primary key,Person_Name varchar(200),\n",
        "               Person_Phno varchar(20),Vechicle_type varchar(20),Total_Deliveries int,\n",
        "               Average_rating float,Person_Address varchar(200))\"\"\"\n",
        "df_obj.create_table(person_tble)"
      ]
    },
    {
      "cell_type": "code",
      "execution_count": 27,
      "metadata": {
        "colab": {
          "base_uri": "https://localhost:8080/"
        },
        "id": "G0t4YvAPFEpv",
        "outputId": "56b34d75-b6da-4895-8469-8b846e4b9ed1"
      },
      "outputs": [
        {
          "name": "stdout",
          "output_type": "stream",
          "text": [
            "value inserted\n"
          ]
        }
      ],
      "source": [
        "pt=\"\"\"insert into Delivery_Person_Table(Delivery_Person_ID,Person_Name,Person_Phno,Vechicle_type,Total_Deliveries,Average_rating,Person_Address)\n",
        "      values(%s,%s,%s,%s,%s,%s,%s)\"\"\"\n",
        "df_obj.insert_data(pt, DPT)  # Insert into Delivery_Person_Table first"
      ]
    },
    {
      "cell_type": "code",
      "execution_count": null,
      "metadata": {},
      "outputs": [],
      "source": [
        "df_obj.cursor.execute(\"\"\"\n",
        "    SELECT Order_ID\n",
        "    FROM Order_Table\n",
        "    WHERE Order_ID IN (SELECT Order_ID FROM Order_Table)\n",
        "\"\"\")\n",
        "order_ids = [row[0] for row in df_obj.cursor.fetchall()]"
      ]
    },
    {
      "cell_type": "code",
      "execution_count": null,
      "metadata": {},
      "outputs": [],
      "source": [
        "df_obj.cursor.execute(\"\"\"\n",
        "    SELECT Delivery_Person_ID\n",
        "    FROM Delivery_Person_Table\n",
        "    WHERE Delivery_Person_ID IN (SELECT Delivery_Person_ID FROM Delivery_Person_Table)\n",
        "\"\"\")\n",
        "Delivery_Person_ids = [row[0] for row in df_obj.cursor.fetchall()]\n"
      ]
    },
    {
      "cell_type": "code",
      "execution_count": null,
      "metadata": {},
      "outputs": [],
      "source": [
        "import random\n",
        "DT=[]\n",
        "for _ in range(1,1000):\n",
        "  order_time = fake.date_time_between(start_date='-30d', end_date='now')\n",
        "  estimated_time = order_time + timedelta(minutes=random.randint(30, 60))\n",
        "\n",
        "    # Generate Actual Delivery Time (could be late, e.g., 10-20 minutes later)\n",
        "  actual_delivery_time = estimated_time + timedelta(minutes=random.randint(0, 20))\n",
        "\n",
        "  deli = (\n",
        "      fake.unique.random_int(min=10000, max=99999),\n",
        "      fake.random.choice(order_ids),\n",
        "      fake.random.choice(Delivery_Person_ids),\n",
        "      fake.random_element([\"On the way\",\"Delivered\",\"In Transit\",\"Pending\",\"Out for Delivery\",\"Cancelled\"]),\n",
        "      fake.random_int(min=1, max=100),\n",
        "      actual_delivery_time,\n",
        "      estimated_time ,\n",
        "      fake.random_int(min=10, max=100),\n",
        "      fake.random_element(vehicle_types)\n",
        "\n",
        "  )\n",
        "  DT.append(deli)"
      ]
    },
    {
      "cell_type": "code",
      "execution_count": 28,
      "metadata": {
        "colab": {
          "base_uri": "https://localhost:8080/"
        },
        "id": "o1mzHNbULmV-",
        "outputId": "031cd09c-7851-42a8-fade-ff5ff16d5e95"
      },
      "outputs": [
        {
          "name": "stdout",
          "output_type": "stream",
          "text": [
            "table created\n"
          ]
        }
      ],
      "source": [
        "delivery_table=\"\"\"create table Delivery_Table(Delivery_ID int primary key,Order_ID int ,Delivery_Person_ID int,Delivery_Status varchar(20),\n",
        "                  Distance_to_Deliver int,Delivery_Time DATETIME,Estimated_Delivery_Time DATETIME,Delivery_Fee float,Vehicle_type varchar(20),\n",
        "                  FOREIGN KEY (Order_ID) REFERENCES Order_Table(Order_ID) ON DELETE CASCADE,\n",
        "                  FOREIGN KEY (Delivery_Person_ID) REFERENCES Delivery_Person_Table(Delivery_Person_ID) ON DELETE CASCADE)\"\"\"\n",
        "\n",
        "df_obj.create_table(delivery_table)"
      ]
    },
    {
      "cell_type": "code",
      "execution_count": 32,
      "metadata": {
        "colab": {
          "base_uri": "https://localhost:8080/"
        },
        "id": "xLyVHf3EQDoK",
        "outputId": "940412c8-80fe-4060-bb7f-f5712a090c27"
      },
      "outputs": [
        {
          "name": "stdout",
          "output_type": "stream",
          "text": [
            "value inserted\n"
          ]
        }
      ],
      "source": [
        "idt=\"\"\"insert into Delivery_Table(Delivery_ID,Order_ID,Delivery_Person_ID,Delivery_Status,Distance_to_Deliver,Delivery_Time,\n",
        "        Estimated_Delivery_Time,Delivery_Fee,Vehicle_type)\n",
        "        values(%s,%s,%s,%s,%s,%s,%s,%s,%s)\"\"\"\n",
        "df_obj.insert_data(idt, DT)"
      ]
    },
    {
      "cell_type": "code",
      "execution_count": null,
      "metadata": {
        "colab": {
          "base_uri": "https://localhost:8080/"
        },
        "id": "1Zs5LLZxjyTD",
        "outputId": "bb3eb6db-9c6e-4f0d-c9d3-2e4c2103a4f0"
      },
      "outputs": [
        {
          "name": "stdout",
          "output_type": "stream",
          "text": [
            "Reconnected to the database.\n"
          ]
        }
      ],
      "source": [
        "df_obj.reconnect()"
      ]
    },
    {
      "cell_type": "code",
      "execution_count": null,
      "metadata": {
        "colab": {
          "base_uri": "https://localhost:8080/"
        },
        "id": "cZ83WONQMpT_",
        "outputId": "cde8f236-3061-4005-b5f2-dbd504fe0cd3"
      },
      "outputs": [
        {
          "name": "stdout",
          "output_type": "stream",
          "text": [
            "2022-01-02\n"
          ]
        }
      ],
      "source": [
        "from datetime import datetime\n",
        "random_date = fake.date_between(start_date= datetime(2020,1,1), end_date=datetime(2024,12,31))\n",
        "print(random_date)"
      ]
    }
  ],
  "metadata": {
    "colab": {
      "provenance": []
    },
    "kernelspec": {
      "display_name": "base",
      "language": "python",
      "name": "python3"
    },
    "language_info": {
      "codemirror_mode": {
        "name": "ipython",
        "version": 3
      },
      "file_extension": ".py",
      "mimetype": "text/x-python",
      "name": "python",
      "nbconvert_exporter": "python",
      "pygments_lexer": "ipython3",
      "version": "3.12.7"
    }
  },
  "nbformat": 4,
  "nbformat_minor": 0
}
